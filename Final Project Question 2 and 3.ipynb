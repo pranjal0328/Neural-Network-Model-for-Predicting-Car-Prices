{
 "cells": [
  {
   "cell_type": "markdown",
   "metadata": {},
   "source": [
    "# Car Sales.\n",
    "\n",
    "Consider the data on used cars (_ToyotaCorolla.csv_) with 1436 records and details on 38 attributes, including Price, Age, KM, HP, and other specifcations. The goal is to predict the price of a used Toyota Corolla based on its specifcations."
   ]
  },
  {
   "cell_type": "markdown",
   "metadata": {},
   "source": [
    "__11.3.a.__ Fit a neural network model to the data. Use a single hidden layer with 2 nodes."
   ]
  },
  {
   "cell_type": "markdown",
   "metadata": {},
   "source": [
    "• Use predictors Age_08_04, KM, Fuel_Type, HP, Automatic, Doors, Quarterly_Tax, Mfr_Guarantee, Guarantee_Period, Airco, Automatic_airco, CD_Player, Powered_Windows, Sport_Model, and Tow_Bar."
   ]
  },
  {
   "cell_type": "markdown",
   "metadata": {},
   "source": [
    "• Use the scikit-learn transformer _MinMaxScaler()_ to scale the data to the range [0, 1]. Use separate transformer for the input and output data. To create the dummy variables, use the pandas function _pd.get_dummies()_.\n",
    "\n",
    "Record the RMS error for the training data and the validation data. Repeat the process, changing the number of hidden layers and nodes to {single layer with 5 nodes}, {two layers, 5 nodes in each layer}."
   ]
  },
  {
   "cell_type": "markdown",
   "metadata": {},
   "source": [
    "__Answer:__"
   ]
  },
  {
   "cell_type": "markdown",
   "metadata": {},
   "source": [
    "## Data Preprocessing"
   ]
  },
  {
   "cell_type": "code",
   "execution_count": 15,
   "metadata": {},
   "outputs": [],
   "source": [
    "# load the data\n",
    "import pandas as pd\n",
    "\n",
    "car_df = pd.read_csv('ToyotaCorolla.csv')\n",
    "# select the suggested variables\n",
    "selected_var = ['Price', 'Age_08_04', 'KM', 'Fuel_Type', 'HP', 'Automatic', 'Doors', 'Quarterly_Tax', \n",
    "                'Mfr_Guarantee', 'Guarantee_Period', 'Airco', 'Automatic_airco', 'CD_Player', \n",
    "                'Powered_Windows', 'Sport_Model', 'Tow_Bar']\n",
    "car_df = car_df[selected_var]"
   ]
  },
  {
   "cell_type": "code",
   "execution_count": 16,
   "metadata": {},
   "outputs": [],
   "source": [
    "# convert the categorical data into dummy variables\n",
    "categorical_var = ['Fuel_Type']\n",
    "car_df = pd.get_dummies(car_df, columns=['Fuel_Type'], drop_first=True)\n",
    "\n",
    "# separate out predictors and response variables\n",
    "X_df = car_df.drop(columns=['Price'])\n",
    "Y_df = car_df[ ['Price'] ]"
   ]
  },
  {
   "cell_type": "code",
   "execution_count": 18,
   "metadata": {},
   "outputs": [],
   "source": [
    "# normalize the data \n",
    "from sklearn.preprocessing import MinMaxScaler\n",
    "\n",
    "scaleInput = MinMaxScaler()\n",
    "scaleOutput = MinMaxScaler()\n",
    "X = scaleInput.fit_transform(X_df)\n",
    "y = scaleOutput.fit_transform(Y_df)"
   ]
  },
  {
   "cell_type": "code",
   "execution_count": 20,
   "metadata": {},
   "outputs": [
    {
     "data": {
      "text/plain": [
       "((861, 16), (575, 16), (861, 1), (575, 1))"
      ]
     },
     "execution_count": 20,
     "metadata": {},
     "output_type": "execute_result"
    }
   ],
   "source": [
    "# partition data\n",
    "from sklearn.model_selection import train_test_split\n",
    "\n",
    "X_train, X_valid, y_train, y_valid = train_test_split(X, y, test_size=0.4, random_state=12345)\n",
    "X_train.shape, X_valid.shape, y_train.shape, y_valid.shape"
   ]
  },
  {
   "cell_type": "markdown",
   "metadata": {},
   "source": [
    "__9.3.a.i.__ What happens to the RMS error for the training data as the number of layers and nodes increases?"
   ]
  },
  {
   "cell_type": "markdown",
   "metadata": {},
   "source": [
    "### Single layer with 2 nodes"
   ]
  },
  {
   "cell_type": "code",
   "execution_count": 22,
   "metadata": {},
   "outputs": [
    {
     "data": {
      "text/plain": [
       "MLPRegressor(activation='logistic', hidden_layer_sizes=2, random_state=1,\n",
       "             solver='lbfgs')"
      ]
     },
     "execution_count": 22,
     "metadata": {},
     "output_type": "execute_result"
    }
   ],
   "source": [
    "# train neural network with 2 hidden nodes\n",
    "from sklearn.neural_network import MLPRegressor\n",
    "\n",
    "car_nnet = MLPRegressor(hidden_layer_sizes=(2), activation='logistic', solver='lbfgs', random_state=1)\n",
    "car_nnet.fit(X_train, y_train.ravel())"
   ]
  },
  {
   "cell_type": "code",
   "execution_count": 23,
   "metadata": {},
   "outputs": [
    {
     "name": "stdout",
     "output_type": "stream",
     "text": [
      "Training data (2)\n"
     ]
    },
    {
     "ename": "NameError",
     "evalue": "name 'regressionSummary' is not defined",
     "output_type": "error",
     "traceback": [
      "\u001b[1;31m---------------------------------------------------------------------------\u001b[0m",
      "\u001b[1;31mNameError\u001b[0m                                 Traceback (most recent call last)",
      "\u001b[1;32m~\\AppData\\Local\\Temp\\ipykernel_5828\\2004896360.py\u001b[0m in \u001b[0;36m<module>\u001b[1;34m\u001b[0m\n\u001b[0;32m      3\u001b[0m \u001b[0my_actual\u001b[0m \u001b[1;33m=\u001b[0m \u001b[0mscaleOutput\u001b[0m\u001b[1;33m.\u001b[0m\u001b[0minverse_transform\u001b[0m\u001b[1;33m(\u001b[0m\u001b[0my_train\u001b[0m\u001b[1;33m)\u001b[0m\u001b[1;33m.\u001b[0m\u001b[0mravel\u001b[0m\u001b[1;33m(\u001b[0m\u001b[1;33m)\u001b[0m\u001b[1;33m\u001b[0m\u001b[1;33m\u001b[0m\u001b[0m\n\u001b[0;32m      4\u001b[0m \u001b[0my_pred\u001b[0m \u001b[1;33m=\u001b[0m \u001b[0mscaleOutput\u001b[0m\u001b[1;33m.\u001b[0m\u001b[0minverse_transform\u001b[0m\u001b[1;33m(\u001b[0m\u001b[1;33m[\u001b[0m\u001b[0mcar_nnet\u001b[0m\u001b[1;33m.\u001b[0m\u001b[0mpredict\u001b[0m\u001b[1;33m(\u001b[0m\u001b[0mX_train\u001b[0m\u001b[1;33m)\u001b[0m\u001b[1;33m]\u001b[0m\u001b[1;33m)\u001b[0m\u001b[1;33m.\u001b[0m\u001b[0mravel\u001b[0m\u001b[1;33m(\u001b[0m\u001b[1;33m)\u001b[0m\u001b[1;33m\u001b[0m\u001b[1;33m\u001b[0m\u001b[0m\n\u001b[1;32m----> 5\u001b[1;33m \u001b[0mregressionSummary\u001b[0m\u001b[1;33m(\u001b[0m\u001b[0my_pred\u001b[0m\u001b[1;33m,\u001b[0m \u001b[0my_actual\u001b[0m\u001b[1;33m)\u001b[0m\u001b[1;33m\u001b[0m\u001b[1;33m\u001b[0m\u001b[0m\n\u001b[0m\u001b[0;32m      6\u001b[0m \u001b[1;33m\u001b[0m\u001b[0m\n\u001b[0;32m      7\u001b[0m \u001b[1;31m# RMSE for validation set\u001b[0m\u001b[1;33m\u001b[0m\u001b[1;33m\u001b[0m\u001b[0m\n",
      "\u001b[1;31mNameError\u001b[0m: name 'regressionSummary' is not defined"
     ]
    }
   ],
   "source": [
    "# RMSE for training set\n",
    "print('Training data (2)')\n",
    "y_actual = scaleOutput.inverse_transform(y_train).ravel()\n",
    "y_pred = scaleOutput.inverse_transform([car_nnet.predict(X_train)]).ravel()\n",
    "regressionSummary(y_pred, y_actual)\n",
    "\n",
    "# RMSE for validation set\n",
    "print('\\nValidation data (2)')\n",
    "y_actual = scaleOutput.inverse_transform(y_valid).ravel()\n",
    "y_pred = scaleOutput.inverse_transform([car_nnet.predict(X_valid)]).ravel()\n",
    "regressionSummary(y_pred, y_actual)\n",
    "\n",
    "# plot predicted vs actual values\n",
    "ax = pd.DataFrame({'actual': y_actual, 'predicted': y_pred}).plot.scatter(x='actual', y='predicted', alpha=0.5)\n",
    "plt.plot([5000, 30000], [5000, 30000], color='C1')\n",
    "plt.show()"
   ]
  },
  {
   "cell_type": "code",
   "execution_count": 3,
   "metadata": {},
   "outputs": [
    {
     "name": "stdout",
     "output_type": "stream",
     "text": [
      "Training data (2)\n"
     ]
    },
    {
     "ename": "NameError",
     "evalue": "name 'y_train' is not defined",
     "output_type": "error",
     "traceback": [
      "\u001b[1;31m---------------------------------------------------------------------------\u001b[0m",
      "\u001b[1;31mNameError\u001b[0m                                 Traceback (most recent call last)",
      "\u001b[1;32m~\\AppData\\Local\\Temp\\ipykernel_5828\\1028246537.py\u001b[0m in \u001b[0;36m<module>\u001b[1;34m\u001b[0m\n\u001b[0;32m      3\u001b[0m \u001b[1;31m# RMSE and R-squared for training set\u001b[0m\u001b[1;33m\u001b[0m\u001b[1;33m\u001b[0m\u001b[0m\n\u001b[0;32m      4\u001b[0m \u001b[0mprint\u001b[0m\u001b[1;33m(\u001b[0m\u001b[1;34m'Training data (2)'\u001b[0m\u001b[1;33m)\u001b[0m\u001b[1;33m\u001b[0m\u001b[1;33m\u001b[0m\u001b[0m\n\u001b[1;32m----> 5\u001b[1;33m \u001b[0my_actual_train\u001b[0m \u001b[1;33m=\u001b[0m \u001b[0my_train\u001b[0m\u001b[1;33m.\u001b[0m\u001b[0mravel\u001b[0m\u001b[1;33m(\u001b[0m\u001b[1;33m)\u001b[0m\u001b[1;33m\u001b[0m\u001b[1;33m\u001b[0m\u001b[0m\n\u001b[0m\u001b[0;32m      6\u001b[0m \u001b[0my_pred_train\u001b[0m \u001b[1;33m=\u001b[0m \u001b[0mcar_nnet\u001b[0m\u001b[1;33m.\u001b[0m\u001b[0mpredict\u001b[0m\u001b[1;33m(\u001b[0m\u001b[0mX_train\u001b[0m\u001b[1;33m)\u001b[0m\u001b[1;33m.\u001b[0m\u001b[0mravel\u001b[0m\u001b[1;33m(\u001b[0m\u001b[1;33m)\u001b[0m\u001b[1;33m\u001b[0m\u001b[1;33m\u001b[0m\u001b[0m\n\u001b[0;32m      7\u001b[0m \u001b[0mregressionSummary\u001b[0m\u001b[1;33m(\u001b[0m\u001b[0my_pred_train\u001b[0m\u001b[1;33m,\u001b[0m \u001b[0my_actual_train\u001b[0m\u001b[1;33m)\u001b[0m\u001b[1;33m\u001b[0m\u001b[1;33m\u001b[0m\u001b[0m\n",
      "\u001b[1;31mNameError\u001b[0m: name 'y_train' is not defined"
     ]
    }
   ],
   "source": [
    "from sklearn.metrics import r2_score\n",
    "\n",
    "# RMSE and R-squared for training set\n",
    "print('Training data (2)')\n",
    "y_actual_train = y_train.ravel()\n",
    "y_pred_train = car_nnet.predict(X_train).ravel()\n",
    "regressionSummary(y_pred_train, y_actual_train)\n",
    "r_squared_train = r2_score(y_actual_train, y_pred_train)\n",
    "print('R-squared:', r_squared_train)\n",
    "\n",
    "# RMSE and R-squared for validation set\n",
    "print('\\nValidation data (2)')\n",
    "y_actual_valid = y_valid.ravel()\n",
    "y_pred_valid = car_nnet.predict(X_valid).ravel()\n",
    "regressionSummary(y_pred_valid, y_actual_valid)\n",
    "r_squared_valid = r2_score(y_actual_valid, y_pred_valid)\n",
    "print('R-squared:', r_squared_valid)\n",
    "\n",
    "# plot predicted vs actual values\n",
    "ax = pd.DataFrame({'actual': y_actual_valid, 'predicted': y_pred_valid}).plot.scatter(x='actual', y='predicted', alpha=0.5)\n",
    "plt.plot([5000, 30000], [5000, 30000], color='C1')\n",
    "plt.show()\n"
   ]
  },
  {
   "cell_type": "markdown",
   "metadata": {},
   "source": [
    "### Single layer with 5 nodes"
   ]
  },
  {
   "cell_type": "code",
   "execution_count": 12,
   "metadata": {},
   "outputs": [
    {
     "name": "stdout",
     "output_type": "stream",
     "text": [
      "Training data (5)\n",
      "\n",
      "Regression statistics\n",
      "\n",
      "                      Mean Error (ME) : 0.4100\n",
      "       Root Mean Squared Error (RMSE) : 1035.9503\n",
      "            Mean Absolute Error (MAE) : 785.5496\n",
      "          Mean Percentage Error (MPE) : 0.0534\n",
      "Mean Absolute Percentage Error (MAPE) : 7.6386\n",
      "\n",
      "Validation data (5)\n",
      "\n",
      "Regression statistics\n",
      "\n",
      "                      Mean Error (ME) : -86.4744\n",
      "       Root Mean Squared Error (RMSE) : 1143.4845\n",
      "            Mean Absolute Error (MAE) : 859.6481\n",
      "          Mean Percentage Error (MPE) : -1.0071\n",
      "Mean Absolute Percentage Error (MAPE) : 8.5108\n"
     ]
    },
    {
     "data": {
      "image/png": "[encoded data removed]",
      "text/plain": [
       "<Figure size 432x288 with 1 Axes>"
      ]
     },
     "metadata": {
      "needs_background": "light"
     },
     "output_type": "display_data"
    }
   ],
   "source": [
    "# train neural network with 5 hidden nodes\n",
    "car_nnet = MLPRegressor(hidden_layer_sizes=(5), activation='logistic', solver='lbfgs', random_state=1)\n",
    "car_nnet.fit(X_train, y_train.ravel())\n",
    "\n",
    "# RMSE for training set\n",
    "print('Training data (5)')\n",
    "y_actual = scaleOutput.inverse_transform(y_train).ravel()\n",
    "y_pred = scaleOutput.inverse_transform([car_nnet.predict(X_train)]).ravel()\n",
    "regressionSummary(y_pred, y_actual)\n",
    "\n",
    "# RMSE for validation set\n",
    "print('\\nValidation data (5)')\n",
    "y_actual = scaleOutput.inverse_transform(y_valid).ravel()\n",
    "y_pred = scaleOutput.inverse_transform([car_nnet.predict(X_valid)]).ravel()\n",
    "regressionSummary(y_pred, y_actual)\n",
    "\n",
    "# plot predicted vs actual values\n",
    "ax = pd.DataFrame({'actual': y_actual, 'predicted': y_pred}).plot.scatter(x='actual', y='predicted', alpha=0.5)\n",
    "plt.plot([5000, 30000], [5000, 30000], color='C1')\n",
    "plt.show()"
   ]
  },
  {
   "cell_type": "markdown",
   "metadata": {},
   "source": [
    "### Two layer with 5 nodes each"
   ]
  },
  {
   "cell_type": "code",
   "execution_count": 13,
   "metadata": {},
   "outputs": [
    {
     "name": "stdout",
     "output_type": "stream",
     "text": [
      "Training data (5, 5)\n",
      "\n",
      "Regression statistics\n",
      "\n",
      "                      Mean Error (ME) : -1.9756\n",
      "       Root Mean Squared Error (RMSE) : 1084.3964\n",
      "            Mean Absolute Error (MAE) : 805.6998\n",
      "          Mean Percentage Error (MPE) : 0.0288\n",
      "Mean Absolute Percentage Error (MAPE) : 7.7659\n",
      "\n",
      "Validation data (5, 5)\n",
      "\n",
      "Regression statistics\n",
      "\n",
      "                      Mean Error (ME) : -84.4923\n",
      "       Root Mean Squared Error (RMSE) : 1146.2892\n",
      "            Mean Absolute Error (MAE) : 867.0769\n",
      "          Mean Percentage Error (MPE) : -0.9083\n",
      "Mean Absolute Percentage Error (MAPE) : 8.5001\n"
     ]
    },
    {
     "data": {
      "image/png": "[encoded data removed]",
      "text/plain": [
       "<Figure size 432x288 with 1 Axes>"
      ]
     },
     "metadata": {
      "needs_background": "light"
     },
     "output_type": "display_data"
    }
   ],
   "source": [
    "# train neural network with 2 layes with 5 hidden nodes each\n",
    "car_nnet = MLPRegressor(hidden_layer_sizes=(5, 5), activation='logistic', solver='lbfgs', random_state=1)\n",
    "car_nnet.fit(X_train, y_train.ravel())\n",
    "\n",
    "# RMSE for training set\n",
    "print('Training data (5, 5)')\n",
    "y_actual = scaleOutput.inverse_transform(y_train).ravel()\n",
    "y_pred = scaleOutput.inverse_transform([car_nnet.predict(X_train)]).ravel()\n",
    "regressionSummary(y_pred, y_actual)\n",
    "\n",
    "# RMSE for validation set\n",
    "print('\\nValidation data (5, 5)')\n",
    "y_actual = scaleOutput.inverse_transform(y_valid).ravel()\n",
    "y_pred = scaleOutput.inverse_transform([car_nnet.predict(X_valid)]).ravel()\n",
    "regressionSummary(y_pred, y_actual)\n",
    "\n",
    "# plot predicted vs actual values\n",
    "ax = pd.DataFrame({'actual': y_actual, 'predicted': y_pred}).plot.scatter(x='actual', y='predicted', alpha=0.5)\n",
    "plt.plot([5000, 30000], [5000, 30000], color='C1')\n",
    "plt.show()"
   ]
  },
  {
   "cell_type": "markdown",
   "metadata": {},
   "source": [
    "ii. What happens to the RMS error for the validation data?"
   ]
  },
  {
   "cell_type": "markdown",
   "metadata": {},
   "source": [
    "iii. Comment on the appropriate number of layers and nodes for this application"
   ]
  },
  {
   "cell_type": "markdown",
   "metadata": {},
   "source": [
    "# Direct Mailing to Airline Customers."
   ]
  },
  {
   "cell_type": "markdown",
   "metadata": {},
   "source": [
    "East-West Airlines has entered into a partnership with the wireless phone company Telcon to sell the latter’s service via direct mail. The fle _EastWestAirlinesNN.csv_ contains a subset of a data sample of who has already received a test oﬀer. About 13% accepted.\n",
    "\n",
    "You are asked to develop a model to classify East–West customers as to whether they purchase a wireless phone service contract (outcome variable Phone_Sale). This model will be used to classify additional customers.\n",
    "\n",
    "__11.4.a.__ Run a neural net model on these data, using a single hidden layer with five nodes. Remember to first convert categorical variables into dummies and scale numerical predictor variables to a 0–1 (use the scikit-learn transformer <i>MinMaxScaler()</i>). Create a decile-wise lift chart for the training and validation sets. Interpret the meaning (in business terms) of the leftmost bar of the validation decile-wise lift chart.\n",
    "\n"
   ]
  },
  {
   "cell_type": "code",
   "execution_count": 14,
   "metadata": {
    "scrolled": true
   },
   "outputs": [
    {
     "data": {
      "text/html": [
       "<div>\n",
       "<style scoped>\n",
       "    .dataframe tbody tr th:only-of-type {\n",
       "        vertical-align: middle;\n",
       "    }\n",
       "\n",
       "    .dataframe tbody tr th {\n",
       "        vertical-align: top;\n",
       "    }\n",
       "\n",
       "    .dataframe thead th {\n",
       "        text-align: right;\n",
       "    }\n",
       "</style>\n",
       "<table border=\"1\" class=\"dataframe\">\n",
       "  <thead>\n",
       "    <tr style=\"text-align: right;\">\n",
       "      <th></th>\n",
       "      <th>ID#</th>\n",
       "      <th>Topflight</th>\n",
       "      <th>Balance</th>\n",
       "      <th>Qual_miles</th>\n",
       "      <th>cc1_miles?</th>\n",
       "      <th>cc2_miles?</th>\n",
       "      <th>cc3_miles?</th>\n",
       "      <th>Bonus_miles</th>\n",
       "      <th>Bonus_trans</th>\n",
       "      <th>Flight_miles_12mo</th>\n",
       "      <th>Flight_trans_12</th>\n",
       "      <th>Online_12</th>\n",
       "      <th>Email</th>\n",
       "      <th>Club_member</th>\n",
       "      <th>Any_cc_miles_12mo</th>\n",
       "      <th>Phone_sale</th>\n",
       "    </tr>\n",
       "  </thead>\n",
       "  <tbody>\n",
       "    <tr>\n",
       "      <th>0</th>\n",
       "      <td>1.0</td>\n",
       "      <td>0.0</td>\n",
       "      <td>28143.0</td>\n",
       "      <td>0.0</td>\n",
       "      <td>0.0</td>\n",
       "      <td>1.0</td>\n",
       "      <td>0.0</td>\n",
       "      <td>174.0</td>\n",
       "      <td>1.0</td>\n",
       "      <td>0.0</td>\n",
       "      <td>0.0</td>\n",
       "      <td>0.0</td>\n",
       "      <td>1.0</td>\n",
       "      <td>0.0</td>\n",
       "      <td>1.0</td>\n",
       "      <td>0.0</td>\n",
       "    </tr>\n",
       "    <tr>\n",
       "      <th>1</th>\n",
       "      <td>2.0</td>\n",
       "      <td>0.0</td>\n",
       "      <td>19244.0</td>\n",
       "      <td>0.0</td>\n",
       "      <td>0.0</td>\n",
       "      <td>0.0</td>\n",
       "      <td>0.0</td>\n",
       "      <td>215.0</td>\n",
       "      <td>2.0</td>\n",
       "      <td>0.0</td>\n",
       "      <td>0.0</td>\n",
       "      <td>0.0</td>\n",
       "      <td>0.0</td>\n",
       "      <td>0.0</td>\n",
       "      <td>0.0</td>\n",
       "      <td>0.0</td>\n",
       "    </tr>\n",
       "    <tr>\n",
       "      <th>2</th>\n",
       "      <td>3.0</td>\n",
       "      <td>0.0</td>\n",
       "      <td>41354.0</td>\n",
       "      <td>0.0</td>\n",
       "      <td>1.0</td>\n",
       "      <td>0.0</td>\n",
       "      <td>0.0</td>\n",
       "      <td>4123.0</td>\n",
       "      <td>4.0</td>\n",
       "      <td>0.0</td>\n",
       "      <td>0.0</td>\n",
       "      <td>0.0</td>\n",
       "      <td>1.0</td>\n",
       "      <td>0.0</td>\n",
       "      <td>1.0</td>\n",
       "      <td>0.0</td>\n",
       "    </tr>\n",
       "    <tr>\n",
       "      <th>3</th>\n",
       "      <td>4.0</td>\n",
       "      <td>0.0</td>\n",
       "      <td>14776.0</td>\n",
       "      <td>0.0</td>\n",
       "      <td>0.0</td>\n",
       "      <td>0.0</td>\n",
       "      <td>0.0</td>\n",
       "      <td>500.0</td>\n",
       "      <td>1.0</td>\n",
       "      <td>0.0</td>\n",
       "      <td>0.0</td>\n",
       "      <td>0.0</td>\n",
       "      <td>1.0</td>\n",
       "      <td>0.0</td>\n",
       "      <td>0.0</td>\n",
       "      <td>0.0</td>\n",
       "    </tr>\n",
       "    <tr>\n",
       "      <th>4</th>\n",
       "      <td>5.0</td>\n",
       "      <td>1.0</td>\n",
       "      <td>97752.0</td>\n",
       "      <td>0.0</td>\n",
       "      <td>1.0</td>\n",
       "      <td>0.0</td>\n",
       "      <td>0.0</td>\n",
       "      <td>43300.0</td>\n",
       "      <td>26.0</td>\n",
       "      <td>2077.0</td>\n",
       "      <td>4.0</td>\n",
       "      <td>0.0</td>\n",
       "      <td>1.0</td>\n",
       "      <td>0.0</td>\n",
       "      <td>1.0</td>\n",
       "      <td>0.0</td>\n",
       "    </tr>\n",
       "  </tbody>\n",
       "</table>\n",
       "</div>"
      ],
      "text/plain": [
       "   ID#  Topflight  Balance  Qual_miles  cc1_miles?  cc2_miles?  cc3_miles?  \\\n",
       "0  1.0        0.0  28143.0         0.0         0.0         1.0         0.0   \n",
       "1  2.0        0.0  19244.0         0.0         0.0         0.0         0.0   \n",
       "2  3.0        0.0  41354.0         0.0         1.0         0.0         0.0   \n",
       "3  4.0        0.0  14776.0         0.0         0.0         0.0         0.0   \n",
       "4  5.0        1.0  97752.0         0.0         1.0         0.0         0.0   \n",
       "\n",
       "   Bonus_miles  Bonus_trans  Flight_miles_12mo  Flight_trans_12  Online_12  \\\n",
       "0        174.0          1.0                0.0              0.0        0.0   \n",
       "1        215.0          2.0                0.0              0.0        0.0   \n",
       "2       4123.0          4.0                0.0              0.0        0.0   \n",
       "3        500.0          1.0                0.0              0.0        0.0   \n",
       "4      43300.0         26.0             2077.0              4.0        0.0   \n",
       "\n",
       "   Email  Club_member  Any_cc_miles_12mo  Phone_sale  \n",
       "0    1.0          0.0                1.0         0.0  \n",
       "1    0.0          0.0                0.0         0.0  \n",
       "2    1.0          0.0                1.0         0.0  \n",
       "3    1.0          0.0                0.0         0.0  \n",
       "4    1.0          0.0                1.0         0.0  "
      ]
     },
     "execution_count": 14,
     "metadata": {},
     "output_type": "execute_result"
    }
   ],
   "source": [
    "# load the data\n",
    "airline_df = pd.read_csv(DATA / 'EastWestAirlinesNN.csv')\n",
    "airline_df.head(5)"
   ]
  },
  {
   "cell_type": "markdown",
   "metadata": {},
   "source": [
    "## Data Preprocessing"
   ]
  },
  {
   "cell_type": "code",
   "execution_count": 15,
   "metadata": {},
   "outputs": [
    {
     "data": {
      "text/plain": [
       "ID#                  float64\n",
       "Topflight            float64\n",
       "Balance              float64\n",
       "Qual_miles           float64\n",
       "cc1_miles?           float64\n",
       "cc2_miles?           float64\n",
       "cc3_miles?           float64\n",
       "Bonus_miles          float64\n",
       "Bonus_trans          float64\n",
       "Flight_miles_12mo    float64\n",
       "Flight_trans_12      float64\n",
       "Online_12            float64\n",
       "Email                float64\n",
       "Club_member          float64\n",
       "Any_cc_miles_12mo    float64\n",
       "Phone_sale           float64\n",
       "dtype: object"
      ]
     },
     "execution_count": 15,
     "metadata": {},
     "output_type": "execute_result"
    }
   ],
   "source": [
    "# drop missing values from the data\n",
    "airline_df = pd.DataFrame.dropna(airline_df)\n",
    "# check variable types\n",
    "airline_df.dtypes"
   ]
  },
  {
   "cell_type": "code",
   "execution_count": 16,
   "metadata": {},
   "outputs": [
    {
     "data": {
      "text/html": [
       "<div>\n",
       "<style scoped>\n",
       "    .dataframe tbody tr th:only-of-type {\n",
       "        vertical-align: middle;\n",
       "    }\n",
       "\n",
       "    .dataframe tbody tr th {\n",
       "        vertical-align: top;\n",
       "    }\n",
       "\n",
       "    .dataframe thead th {\n",
       "        text-align: right;\n",
       "    }\n",
       "</style>\n",
       "<table border=\"1\" class=\"dataframe\">\n",
       "  <thead>\n",
       "    <tr style=\"text-align: right;\">\n",
       "      <th></th>\n",
       "      <th>Topflight</th>\n",
       "      <th>Balance</th>\n",
       "      <th>Qual_miles</th>\n",
       "      <th>cc1_miles?</th>\n",
       "      <th>cc2_miles?</th>\n",
       "      <th>cc3_miles?</th>\n",
       "      <th>Bonus_miles</th>\n",
       "      <th>Bonus_trans</th>\n",
       "      <th>Flight_miles_12mo</th>\n",
       "      <th>Flight_trans_12</th>\n",
       "      <th>Online_12</th>\n",
       "      <th>Email</th>\n",
       "      <th>Club_member</th>\n",
       "      <th>Any_cc_miles_12mo</th>\n",
       "      <th>Phone_sale</th>\n",
       "    </tr>\n",
       "  </thead>\n",
       "  <tbody>\n",
       "    <tr>\n",
       "      <th>0</th>\n",
       "      <td>0.0</td>\n",
       "      <td>28143.0</td>\n",
       "      <td>0.0</td>\n",
       "      <td>0.0</td>\n",
       "      <td>1.0</td>\n",
       "      <td>0.0</td>\n",
       "      <td>174.0</td>\n",
       "      <td>1.0</td>\n",
       "      <td>0.0</td>\n",
       "      <td>0.0</td>\n",
       "      <td>0.0</td>\n",
       "      <td>1.0</td>\n",
       "      <td>0.0</td>\n",
       "      <td>1.0</td>\n",
       "      <td>0.0</td>\n",
       "    </tr>\n",
       "    <tr>\n",
       "      <th>1</th>\n",
       "      <td>0.0</td>\n",
       "      <td>19244.0</td>\n",
       "      <td>0.0</td>\n",
       "      <td>0.0</td>\n",
       "      <td>0.0</td>\n",
       "      <td>0.0</td>\n",
       "      <td>215.0</td>\n",
       "      <td>2.0</td>\n",
       "      <td>0.0</td>\n",
       "      <td>0.0</td>\n",
       "      <td>0.0</td>\n",
       "      <td>0.0</td>\n",
       "      <td>0.0</td>\n",
       "      <td>0.0</td>\n",
       "      <td>0.0</td>\n",
       "    </tr>\n",
       "    <tr>\n",
       "      <th>2</th>\n",
       "      <td>0.0</td>\n",
       "      <td>41354.0</td>\n",
       "      <td>0.0</td>\n",
       "      <td>1.0</td>\n",
       "      <td>0.0</td>\n",
       "      <td>0.0</td>\n",
       "      <td>4123.0</td>\n",
       "      <td>4.0</td>\n",
       "      <td>0.0</td>\n",
       "      <td>0.0</td>\n",
       "      <td>0.0</td>\n",
       "      <td>1.0</td>\n",
       "      <td>0.0</td>\n",
       "      <td>1.0</td>\n",
       "      <td>0.0</td>\n",
       "    </tr>\n",
       "    <tr>\n",
       "      <th>3</th>\n",
       "      <td>0.0</td>\n",
       "      <td>14776.0</td>\n",
       "      <td>0.0</td>\n",
       "      <td>0.0</td>\n",
       "      <td>0.0</td>\n",
       "      <td>0.0</td>\n",
       "      <td>500.0</td>\n",
       "      <td>1.0</td>\n",
       "      <td>0.0</td>\n",
       "      <td>0.0</td>\n",
       "      <td>0.0</td>\n",
       "      <td>1.0</td>\n",
       "      <td>0.0</td>\n",
       "      <td>0.0</td>\n",
       "      <td>0.0</td>\n",
       "    </tr>\n",
       "    <tr>\n",
       "      <th>4</th>\n",
       "      <td>1.0</td>\n",
       "      <td>97752.0</td>\n",
       "      <td>0.0</td>\n",
       "      <td>1.0</td>\n",
       "      <td>0.0</td>\n",
       "      <td>0.0</td>\n",
       "      <td>43300.0</td>\n",
       "      <td>26.0</td>\n",
       "      <td>2077.0</td>\n",
       "      <td>4.0</td>\n",
       "      <td>0.0</td>\n",
       "      <td>1.0</td>\n",
       "      <td>0.0</td>\n",
       "      <td>1.0</td>\n",
       "      <td>0.0</td>\n",
       "    </tr>\n",
       "  </tbody>\n",
       "</table>\n",
       "</div>"
      ],
      "text/plain": [
       "   Topflight  Balance  Qual_miles  cc1_miles?  cc2_miles?  cc3_miles?  \\\n",
       "0        0.0  28143.0         0.0         0.0         1.0         0.0   \n",
       "1        0.0  19244.0         0.0         0.0         0.0         0.0   \n",
       "2        0.0  41354.0         0.0         1.0         0.0         0.0   \n",
       "3        0.0  14776.0         0.0         0.0         0.0         0.0   \n",
       "4        1.0  97752.0         0.0         1.0         0.0         0.0   \n",
       "\n",
       "   Bonus_miles  Bonus_trans  Flight_miles_12mo  Flight_trans_12  Online_12  \\\n",
       "0        174.0          1.0                0.0              0.0        0.0   \n",
       "1        215.0          2.0                0.0              0.0        0.0   \n",
       "2       4123.0          4.0                0.0              0.0        0.0   \n",
       "3        500.0          1.0                0.0              0.0        0.0   \n",
       "4      43300.0         26.0             2077.0              4.0        0.0   \n",
       "\n",
       "   Email  Club_member  Any_cc_miles_12mo  Phone_sale  \n",
       "0    1.0          0.0                1.0         0.0  \n",
       "1    0.0          0.0                0.0         0.0  \n",
       "2    1.0          0.0                1.0         0.0  \n",
       "3    1.0          0.0                0.0         0.0  \n",
       "4    1.0          0.0                1.0         0.0  "
      ]
     },
     "execution_count": 16,
     "metadata": {},
     "output_type": "execute_result"
    }
   ],
   "source": [
    "# Remove unnecessary variables\n",
    "del airline_df['ID#']\n",
    "\n",
    "airline_df.head()"
   ]
  },
  {
   "cell_type": "code",
   "execution_count": 17,
   "metadata": {},
   "outputs": [],
   "source": [
    "# prettify the variable names by removing characters and spaces in their names\n",
    "airline_df.columns = [c.replace('?', '') for c in airline_df.columns]"
   ]
  },
  {
   "cell_type": "code",
   "execution_count": 18,
   "metadata": {},
   "outputs": [
    {
     "data": {
      "text/plain": [
       "Topflight            float64\n",
       "Balance              float64\n",
       "Qual_miles           float64\n",
       "cc1_miles            float64\n",
       "cc2_miles            float64\n",
       "cc3_miles            float64\n",
       "Bonus_miles          float64\n",
       "Bonus_trans          float64\n",
       "Flight_miles_12mo    float64\n",
       "Flight_trans_12      float64\n",
       "Online_12            float64\n",
       "Email                float64\n",
       "Club_member          float64\n",
       "Any_cc_miles_12mo    float64\n",
       "Phone_sale           float64\n",
       "dtype: object"
      ]
     },
     "execution_count": 18,
     "metadata": {},
     "output_type": "execute_result"
    }
   ],
   "source": [
    "# some categorical variables are read as float64, convert them to categorical variables\n",
    "# airline_df['Topflight'] = airline_df['Topflight'].astype('category')\n",
    "# airline_df['cc1_miles'] = airline_df['cc1_miles'].astype('category')\n",
    "# airline_df['cc2_miles'] = airline_df['cc2_miles'].astype('category')\n",
    "# airline_df['cc3_miles'] = airline_df['cc3_miles'].astype('category')\n",
    "# airline_df['Email'] = airline_df['Email'].astype('category')\n",
    "airline_df.dtypes"
   ]
  },
  {
   "cell_type": "code",
   "execution_count": 19,
   "metadata": {},
   "outputs": [],
   "source": [
    "# separate out the predictors and response variables\n",
    "X_df = airline_df.drop(columns=['Phone_sale'])\n",
    "Y_df = airline_df[ ['Phone_sale'] ]"
   ]
  },
  {
   "cell_type": "code",
   "execution_count": 20,
   "metadata": {},
   "outputs": [],
   "source": [
    "# normalize the data \n",
    "scaleInput = MinMaxScaler()\n",
    "scaleOutput = MinMaxScaler()\n",
    "X = scaleInput.fit_transform(X_df)\n",
    "y = scaleOutput.fit_transform(Y_df)"
   ]
  },
  {
   "cell_type": "code",
   "execution_count": 21,
   "metadata": {},
   "outputs": [
    {
     "data": {
      "text/plain": [
       "((2991, 14), (1994, 14), (2991, 1), (1994, 1))"
      ]
     },
     "execution_count": 21,
     "metadata": {},
     "output_type": "execute_result"
    }
   ],
   "source": [
    "# partition data\n",
    "X_train, X_valid, y_train, y_valid = train_test_split(X, y, test_size=0.4, random_state=12345)\n",
    "X_train.shape, X_valid.shape, y_train.shape, y_valid.shape"
   ]
  },
  {
   "cell_type": "markdown",
   "metadata": {},
   "source": [
    "### Single hidden layer with 5 nodes"
   ]
  },
  {
   "cell_type": "code",
   "execution_count": 22,
   "metadata": {},
   "outputs": [
    {
     "name": "stdout",
     "output_type": "stream",
     "text": [
      "Training data (5)\n",
      "\n",
      "Regression statistics\n",
      "\n",
      "               Mean Error (ME) : -0.1177\n",
      "Root Mean Squared Error (RMSE) : 0.3517\n",
      "     Mean Absolute Error (MAE) : 0.1237\n",
      "\n",
      "Validation data (5)\n",
      "\n",
      "Regression statistics\n",
      "\n",
      "               Mean Error (ME) : -0.1214\n",
      "Root Mean Squared Error (RMSE) : 0.3734\n",
      "     Mean Absolute Error (MAE) : 0.1394\n"
     ]
    },
    {
     "data": {
      "image/png": "[encoded data removed]",
      "text/plain": [
       "<Figure size 432x288 with 1 Axes>"
      ]
     },
     "metadata": {
      "needs_background": "light"
     },
     "output_type": "display_data"
    }
   ],
   "source": [
    "# train neural network with 5 hidden nodes\n",
    "airline_nnet = MLPClassifier(hidden_layer_sizes=(5), activation='logistic', solver='lbfgs', \n",
    "                             max_iter=500, random_state=1)\n",
    "airline_nnet.fit(X_train, y_train.ravel())\n",
    "\n",
    "# RMSE for training set\n",
    "print('Training data (5)')\n",
    "y_actual = scaleOutput.inverse_transform(y_train).ravel()\n",
    "y_pred = scaleOutput.inverse_transform([airline_nnet.predict(X_train)]).ravel()\n",
    "regressionSummary(y_pred, y_actual)\n",
    "\n",
    "# RMSE for validation set\n",
    "print('\\nValidation data (5)')\n",
    "y_actual = scaleOutput.inverse_transform(y_valid).ravel()\n",
    "y_pred = scaleOutput.inverse_transform([airline_nnet.predict(X_valid)]).ravel()\n",
    "regressionSummary(y_pred, y_actual)\n",
    "\n",
    "# plot predicted vs actual values\n",
    "ax = pd.DataFrame({'actual': y_actual, 'predicted': y_pred}).plot.scatter(x='actual', y='predicted', alpha=0.5)\n",
    "plt.plot([0, 1], [0, 1], color='C1')\n",
    "plt.show()"
   ]
  },
  {
   "cell_type": "markdown",
   "metadata": {},
   "source": [
    "### Decile-wise lift chart training set"
   ]
  },
  {
   "cell_type": "markdown",
   "metadata": {},
   "source": [
    "PETER - I was not able to do lift charts. I think we will need to ask PeterG."
   ]
  },
  {
   "cell_type": "code",
   "execution_count": 23,
   "metadata": {},
   "outputs": [
    {
     "name": "stdout",
     "output_type": "stream",
     "text": [
      "Confusion Matrix (Accuracy 0.8763)\n",
      "\n",
      "       Prediction\n",
      "Actual    0    1\n",
      "     0 2595    9\n",
      "     1  361   26\n"
     ]
    },
    {
     "data": {
      "image/png": "[encoded data removed]",
      "text/plain": [
       "<Figure size 720x288 with 2 Axes>"
      ]
     },
     "metadata": {
      "needs_background": "light"
     },
     "output_type": "display_data"
    }
   ],
   "source": [
    "from dmba import classificationSummary, gainsChart, liftChart\n",
    "\n",
    "classificationSummary(y_train, airline_nnet.predict(X_train))\n",
    "\n",
    "nnet_proba = airline_nnet.predict_proba(X_train)\n",
    "result = pd.DataFrame({'actual': y_train.ravel(), \n",
    "                       'p(0)': [p[0] for p in nnet_proba],\n",
    "                       'p(1)': [p[1] for p in nnet_proba],\n",
    "                      })\n",
    "\n",
    "df = result.sort_values(by=['p(1)'], ascending=False)\n",
    "\n",
    "fig, axes = plt.subplots(nrows=1, ncols=2, figsize=(10, 4))\n",
    "gainsChart(df.actual, ax=axes[0])\n",
    "liftChart(df['p(1)'], title=False, ax=axes[1])\n",
    "plt.tight_layout()\n",
    "plt.show()"
   ]
  },
  {
   "cell_type": "markdown",
   "metadata": {},
   "source": [
    "### Decile-wise lift chart validation set"
   ]
  },
  {
   "cell_type": "markdown",
   "metadata": {},
   "source": [
    "PETER - I was not able to do lift charts. I think we will need to ask PeterG."
   ]
  },
  {
   "cell_type": "markdown",
   "metadata": {},
   "source": [
    "__11.4.b.__ Comment on the diﬀerence between the training and validation lift charts."
   ]
  },
  {
   "cell_type": "code",
   "execution_count": 24,
   "metadata": {},
   "outputs": [
    {
     "name": "stdout",
     "output_type": "stream",
     "text": [
      "Confusion Matrix (Accuracy 0.8606)\n",
      "\n",
      "       Prediction\n",
      "Actual    0    1\n",
      "     0 1708   18\n",
      "     1  260    8\n"
     ]
    },
    {
     "data": {
      "image/png": "[encoded data removed]",
      "text/plain": [
       "<Figure size 720x288 with 2 Axes>"
      ]
     },
     "metadata": {
      "needs_background": "light"
     },
     "output_type": "display_data"
    }
   ],
   "source": [
    "classificationSummary(y_valid, airline_nnet.predict(X_valid))\n",
    "\n",
    "nnet_proba = airline_nnet.predict_proba(X_valid)\n",
    "result = pd.DataFrame({'actual': y_valid.ravel(), \n",
    "                       'p(0)': [p[0] for p in nnet_proba],\n",
    "                       'p(1)': [p[1] for p in nnet_proba],\n",
    "                      })\n",
    "\n",
    "df = result.sort_values(by=['p(1)'], ascending=False)\n",
    "\n",
    "fig, axes = plt.subplots(nrows=1, ncols=2, figsize=(10, 4))\n",
    "gainsChart(df.actual, ax=axes[0])\n",
    "liftChart(df['p(1)'], title=False, ax=axes[1])\n",
    "plt.tight_layout()\n",
    "plt.show()"
   ]
  },
  {
   "cell_type": "markdown",
   "metadata": {},
   "source": [
    "__11.4.c.__ Run a second neural net model on the data, this time setting the number of hidden nodes to 1. Comment now on the diﬀerence between this model and the model you ran earlier, and how overftting might have aﬀected results."
   ]
  },
  {
   "cell_type": "markdown",
   "metadata": {},
   "source": [
    "### Single hidden layer with 1 node"
   ]
  },
  {
   "cell_type": "code",
   "execution_count": 25,
   "metadata": {
    "scrolled": false
   },
   "outputs": [
    {
     "name": "stdout",
     "output_type": "stream",
     "text": [
      "Training data (1)\n",
      "\n",
      "Regression statistics\n",
      "\n",
      "               Mean Error (ME) : -0.1294\n",
      "Root Mean Squared Error (RMSE) : 0.3597\n",
      "     Mean Absolute Error (MAE) : 0.1294\n",
      "\n",
      "Validation data (1)\n",
      "\n",
      "Regression statistics\n",
      "\n",
      "               Mean Error (ME) : -0.1344\n",
      "Root Mean Squared Error (RMSE) : 0.3666\n",
      "     Mean Absolute Error (MAE) : 0.1344\n"
     ]
    },
    {
     "data": {
      "image/png": "[encoded data removed]",
      "text/plain": [
       "<Figure size 432x288 with 1 Axes>"
      ]
     },
     "metadata": {
      "needs_background": "light"
     },
     "output_type": "display_data"
    }
   ],
   "source": [
    "# train neural network with 1 hidden node\n",
    "airline_nnet = MLPClassifier(hidden_layer_sizes=(1), activation='logistic', solver='lbfgs', random_state=1)\n",
    "airline_nnet.fit(X_train, y_train.ravel())\n",
    "\n",
    "# RMSE for training set\n",
    "print('Training data (1)')\n",
    "y_actual = scaleOutput.inverse_transform(y_train).ravel()\n",
    "y_pred = scaleOutput.inverse_transform([airline_nnet.predict(X_train)]).ravel()\n",
    "regressionSummary(y_pred, y_actual)\n",
    "\n",
    "# RMSE for validation set\n",
    "print('\\nValidation data (1)')\n",
    "y_actual = scaleOutput.inverse_transform(y_valid).ravel()\n",
    "y_pred = scaleOutput.inverse_transform([airline_nnet.predict(X_valid)]).ravel()\n",
    "regressionSummary(y_pred, y_actual)\n",
    "\n",
    "# plot predicted vs actual values\n",
    "ax = pd.DataFrame({'actual': y_actual, 'predicted': y_pred}).plot.scatter(x='actual', y='predicted', alpha=0.5)\n",
    "plt.plot([1, 2], [1, 2], color='C1')\n",
    "plt.show()"
   ]
  }
 ],
 "metadata": {
  "kernelspec": {
   "display_name": "Python 3 (ipykernel)",
   "language": "python",
   "name": "python3"
  },
  "language_info": {
   "codemirror_mode": {
    "name": "ipython",
    "version": 3
   },
   "file_extension": ".py",
   "mimetype": "text/x-python",
   "name": "python",
   "nbconvert_exporter": "python",
   "pygments_lexer": "ipython3",
   "version": "3.9.13"
  }
 },
 "nbformat": 4,
 "nbformat_minor": 2
}
